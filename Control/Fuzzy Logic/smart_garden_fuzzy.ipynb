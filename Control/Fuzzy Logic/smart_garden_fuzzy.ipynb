{
  "nbformat": 4,
  "nbformat_minor": 0,
  "metadata": {
    "colab": {
      "name": "smart_garden_fuzzy.ipynb",
      "provenance": [],
      "collapsed_sections": []
    },
    "kernelspec": {
      "name": "python3",
      "display_name": "Python 3"
    }
  },
  "cells": [
    {
      "cell_type": "code",
      "metadata": {
        "id": "FO7EYPgbWpxd",
        "colab": {
          "base_uri": "https://localhost:8080/",
          "height": 129
        },
        "outputId": "d02c77e9-0c45-4cc9-8b07-87543ad7efd8"
      },
      "source": [
        "%matplotlib inline\n",
        "import numpy as np\n",
        "import skfuzzy as fuzz\n",
        "import matplotlib.pyplot as plt\n",
        "from skfuzzy import control as ctrl"
      ],
      "execution_count": null,
      "outputs": [
        {
          "output_type": "error",
          "ename": "SyntaxError",
          "evalue": "ignored",
          "traceback": [
            "\u001b[0;36m  File \u001b[0;32m\"<ipython-input-4-5d6dfe846e48>\"\u001b[0;36m, line \u001b[0;32m3\u001b[0m\n\u001b[0;31m    import scikit-fuzzy as fuzz\u001b[0m\n\u001b[0m                 ^\u001b[0m\n\u001b[0;31mSyntaxError\u001b[0m\u001b[0;31m:\u001b[0m invalid syntax\n"
          ]
        }
      ]
    },
    {
      "cell_type": "code",
      "metadata": {
        "id": "jUT4grGqWzCa"
      },
      "source": [
        "temperature = ctrl.Antecedent(np.arange(0, 41, 1), 'temperature')\n",
        "humidity = ctrl.Antecedent(np.arange(0, 100, 1), 'humidity')\n",
        "light = ctrl.Antecedent(np.arange(0, 1000, 1), 'light')\n",
        "\n",
        "survivability = ctrl.Consequent(np.arange(0, 90, 1), 'survivability')"
      ],
      "execution_count": null,
      "outputs": []
    },
    {
      "cell_type": "code",
      "metadata": {
        "id": "FmPjqKKUW7rK"
      },
      "source": [
        "temperature['cold'] = fuzz.zmf(temperature.universe, 0, 17)\n",
        "temperature['warm'] = fuzz.trimf(temperature.universe, [13, 28, 34])\n",
        "temperature['hot'] = fuzz.trimf(temperature.universe, [30, 40, 41])\n",
        "\n",
        "humidity['wet'] = fuzz.trimf(humidity.universe, [65, 100, 100])\n",
        "humidity['moist'] = fuzz.trimf(humidity.universe, [15, 50, 70])\n",
        "humidity['dry'] = fuzz.zmf(humidity.universe, 0, 20)\n",
        "\n",
        "light['low'] = fuzz.zmf(light.universe, 0, 300)\n",
        "light['good'] = fuzz.trimf(light.universe, [250, 650, 900])\n",
        "light['high'] = fuzz.trimf(light.universe, [800, 1000, 1000])\n",
        "\n",
        "survivability['very low'] = fuzz.trimf(survivability.universe, [0, 0, 15])\n",
        "survivability['low'] = fuzz.trimf(survivability.universe, [15, 20, 30])\n",
        "survivability['pretty'] = fuzz.trimf(survivability.universe, [30, 35, 45])\n",
        "survivability['good'] = fuzz.trimf(survivability.universe, [45, 55, 75])\n",
        "survivability['high'] = fuzz.trimf(survivability.universe, [75, 90, 90])"
      ],
      "execution_count": null,
      "outputs": []
    },
    {
      "cell_type": "code",
      "metadata": {
        "id": "am83zzUiW8f6"
      },
      "source": [
        "rule1 = ctrl.Rule(humidity['wet'] & light['low'] & temperature['cold'], survivability['very low'])\n",
        "rule2 = ctrl.Rule(humidity['wet'] & light['low'] & (temperature['warm'] | temperature['hot']), survivability['low'])\n",
        "rule3 = ctrl.Rule(humidity['wet'] & light['good'] & (temperature['cold'] | temperature['hot']), survivability['pretty'])\n",
        "rule4 = ctrl.Rule(humidity['wet'] & light['good'] & temperature['warm'], survivability['good'])\n",
        "rule5 = ctrl.Rule(humidity['wet'] & light['high'] & temperature['cold'], survivability['pretty'])\n",
        "rule6 = ctrl.Rule(humidity['wet'] & light['high'] & (temperature['warm'] | temperature['hot']), survivability['good'])\n",
        "\n",
        "rule7 = ctrl.Rule(humidity['moist'] & light['low'] & temperature['cold'], survivability['low'])\n",
        "rule8 = ctrl.Rule(humidity['moist'] & light['low'] & (temperature['warm'] | temperature['hot']), survivability['pretty'])\n",
        "rule9 = ctrl.Rule(humidity['moist'] & light['good'] & temperature['cold'], survivability['pretty'])\n",
        "\n",
        "rule10 = ctrl.Rule(humidity['moist'] & light['good'] & (temperature['warm'] | temperature['hot']), survivability['high'])\n",
        "rule11 = ctrl.Rule(humidity['moist'] & light['high'] & temperature['cold'], survivability['good'])\n",
        "rule12 = ctrl.Rule(humidity['moist'] & light['high'] & (temperature['warm'] | temperature['hot']), survivability['high'])\n",
        "\n",
        "rule13 = ctrl.Rule(humidity['dry'] & light['low'] & temperature['cold'], survivability['very low'])\n",
        "rule14 = ctrl.Rule(humidity['dry'] & light['low'] & (temperature['warm'] | temperature['hot']), survivability['very low'])\n",
        "rule15 = ctrl.Rule(humidity['dry'] & light['good'] & (temperature['cold'] | temperature['hot']), survivability['very low'])\n",
        "rule16 = ctrl.Rule(humidity['dry'] & light['good'] & temperature['warm'], survivability['low'])\n",
        "rule17 = ctrl.Rule(humidity['dry'] & light['high'] & (temperature['cold'] | temperature['hot']), survivability['very low'])\n",
        "rule18 = ctrl.Rule(humidity['dry'] & light['high'] & temperature['warm'], survivability['low'])"
      ],
      "execution_count": null,
      "outputs": []
    },
    {
      "cell_type": "code",
      "metadata": {
        "id": "r6tkXqgAXDWK"
      },
      "source": [
        "survivability_ctrl = ctrl.ControlSystem([rule1, rule2, rule3, rule4, rule5, rule6, rule7, rule8, rule9,\n",
        "rule10, rule11, rule12, rule13, rule14, rule15, rule16, rule17, rule18])\n",
        "\n",
        "guess = ctrl.ControlSystemSimulation(survivability_ctrl)"
      ],
      "execution_count": null,
      "outputs": []
    },
    {
      "cell_type": "code",
      "metadata": {
        "id": "9WaiASioXGi7"
      },
      "source": [
        "try :\n",
        "    print(\"(0-41 C) Temperature of the environment: \")\n",
        "    getTemp = int(input(\"\"))\n",
        "    guess.input['temperature'] = getTemp\n",
        "    \n",
        "    print(\"(0-100 %) Moisture of the soil: \")\n",
        "    getHum = int(input(\"\"))\n",
        "    guess.input['humidity'] = getHum\n",
        "    \n",
        "    print(\"(0-1000) Light level of the environment: \")\n",
        "    getLight = int(input(\"\"))\n",
        "    guess.input['light'] = getLight\n",
        "    \n",
        "except(IOError, OSError, ValueError) as err :\n",
        "    print(\"Error : \" + err)"
      ],
      "execution_count": null,
      "outputs": []
    },
    {
      "cell_type": "code",
      "metadata": {
        "id": "puULavr1XNPy"
      },
      "source": [
        "guess.compute()"
      ],
      "execution_count": null,
      "outputs": []
    },
    {
      "cell_type": "code",
      "metadata": {
        "id": "RVsF5fiyXWBS"
      },
      "source": [
        "if getTemp <= 10 | getHum <= 10 | getLight <= 10:\n",
        "    guess.output['survivability'] = 'lower than 10'\n",
        "    print(\"\\nSurvival chance for this environment is \" + str(guess.output['survivability']) + \"%\")\n",
        "elif getTemp >= 41:\n",
        "    guess.output['survivability'] = 'lower than 10'\n",
        "    print(\"\\nSurvival chance for this environment is \" + str(guess.output['survivability']) + \"%\")\n",
        "else:\n",
        "    print(\"\\nSurvival chance for this environment is \" + str(guess.output['survivability']) + \"%\")"
      ],
      "execution_count": null,
      "outputs": []
    },
    {
      "cell_type": "code",
      "metadata": {
        "id": "FuFLJRIwXdnK"
      },
      "source": [
        "survivability.view(sim = guess)\n",
        "temperature.view(sim = guess)\n",
        "humidity.view(sim = guess)\n",
        "light.view(sim = guess)"
      ],
      "execution_count": null,
      "outputs": []
    }
  ]
}